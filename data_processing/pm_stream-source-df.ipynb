{
 "cells": [
  {
   "cell_type": "markdown",
   "metadata": {},
   "source": [
    "#### Import Libraries"
   ]
  },
  {
   "cell_type": "code",
   "execution_count": 1,
   "metadata": {},
   "outputs": [],
   "source": [
    "import json\n",
    "import requests\n",
    "from datetime import datetime, timezone, timedelta\n",
    "from decimal import Decimal\n",
    "import pandas as pd\n",
    "import numpy as np\n",
    "import time"
   ]
  },
  {
   "cell_type": "markdown",
   "metadata": {},
   "source": [
    "#### Date and Time"
   ]
  },
  {
   "cell_type": "code",
   "execution_count": 2,
   "metadata": {},
   "outputs": [],
   "source": [
    "start = time.time()\n",
    "\n",
    "now = datetime.now(timezone.utc) + timedelta(hours = 6)\n",
    "ts = now.isoformat()"
   ]
  },
  {
   "cell_type": "markdown",
   "metadata": {},
   "source": [
    "### JSON Part"
   ]
  },
  {
   "cell_type": "markdown",
   "metadata": {},
   "source": [
    "#### AirKaz Parse"
   ]
  },
  {
   "cell_type": "code",
   "execution_count": 3,
   "metadata": {},
   "outputs": [],
   "source": [
    "url_airkaz = 'https://airkaz.org'\n",
    "rq = requests.get(url_airkaz)\n",
    "\n",
    "psource = rq.text\n",
    "\n",
    "psource = rq.text\n",
    "sindex = psource.find('sensors_data')\n",
    "psource = psource[sindex:]\n",
    "findex = psource.find('<div class=\"container-fluid\">')\n",
    "psource = psource[:findex]\n",
    "lstart = psource.find('[')+1\n",
    "lfin = psource.find(']')\n",
    "psource = psource[lstart:lfin].split(\"},\")\n",
    "\n",
    "alldata = []\n",
    "json_code = json.loads(psource[0]+\"}\")\n",
    "\n",
    "for e in list(range(len(psource))):\n",
    "    try:\n",
    "        json_code = json.loads(psource[e]+\"}\")\n",
    "        alldata.append(json_code)\n",
    "    except:\n",
    "        pass\n",
    "\n",
    "data = []\n",
    "\n",
    "for e in alldata:\n",
    "    if e['hour'] == 'now':\n",
    "        data.append(e)\n",
    "\n",
    "for air in data:\n",
    "    air['ts'] = ts\n",
    "\n",
    "datalen = list(range(len(data)))\n",
    "\n",
    "for e in datalen:\n",
    "    uid = data[e]['lat']+data[e]['lng']+data[e]['ts']+'|AirKaz'\n",
    "    data[e]['pointId'] = uid\n",
    "    data[e]['source'] = 'AirKaz.org'\n",
    "\n",
    "cities = ['Алматы', 'Астана', 'Нур-Султан']\n",
    "airkaz = []\n",
    "\n",
    "for d in data:\n",
    "    if d['city'] in cities and d['status'] == 'active' and d['pm25'] != None:\n",
    "        airkaz.append(d)\n",
    "\n",
    "# for e in list(range(len(datac))):\n",
    "#     if data[e]['pm25'] != None:\n",
    "#         data[e]['pm25'] = float(data[e]['pm25'])\n",
    "#     else:\n",
    "#         data[e]['pm25'] = 0"
   ]
  },
  {
   "cell_type": "markdown",
   "metadata": {},
   "source": [
    "#### KazGidroMet Parse"
   ]
  },
  {
   "cell_type": "code",
   "execution_count": 4,
   "metadata": {},
   "outputs": [],
   "source": [
    "api_kgmt = 'e7c28f4e2e167304cee3418502d0e18c3a7772a61edc0b12afa71d2e4f2e3581'\n",
    "url_kgmt = 'http://93.185.75.19:4003/simple/averages/last?key='\n",
    "\n",
    "alldata = requests.get(url_kgmt+api_kgmt).json()\n",
    "\n",
    "almaty = [27, 59, 97, 26, 28]\n",
    "astana = [14, 12, 4, 8, 7]\n",
    "kz = almaty+astana\n",
    "\n",
    "kgmt = []\n",
    "\n",
    "for d in alldata:\n",
    "    if d['stationId'] in kz and d['code'] == 'PM2.5':\n",
    "        kgmt.append(d)\n",
    "\n",
    "for air in kgmt:\n",
    "    air['ts'] = ts\n",
    "    air['pointId'] = str(air['stationId'])+air['id']+air['ts']+'|KGMT'\n",
    "    air['lat'] = 43.258597\n",
    "    air['lng'] = 76.932439\n",
    "    air['adr'] = 'TBA'\n",
    "    air['source'] = 'КазГидроМет'\n",
    "    if air['stationId'] in almaty:\n",
    "        air['city'] = 'Алматы'\n",
    "    elif air['stationId'] in astana:\n",
    "        air['city'] = 'Астана'"
   ]
  },
  {
   "cell_type": "markdown",
   "metadata": {},
   "source": [
    "#### AirVisual Parse"
   ]
  },
  {
   "cell_type": "code",
   "execution_count": 5,
   "metadata": {},
   "outputs": [],
   "source": [
    "api_av = '07204a95-9cab-4030-9c92-585b48409ce2'\n",
    "url_av = 'http://api.airvisual.com/v2/city?city=almaty&state=almaty-qalasy&country=kazakhstan&key='\n",
    "data = requests.get(url_av+api_av).json()\n",
    "pollist = data.get('data').get('history').get('pollution')\n",
    "\n",
    "for e in pollist:\n",
    "    e['city'] = 'Алматы'\n",
    "    e['city_en'] = 'Almaty'\n",
    "\n",
    "url2_av = 'http://api.airvisual.com/v2/city?city=nur-sultan&state=nur-sultan&country=kazakhstan&key='\n",
    "data2 = requests.get(url2_av+api_av).json()\n",
    "pollist2 = data2.get('data').get('history').get('pollution')\n",
    "\n",
    "for e in pollist2:\n",
    "    e['city'] = 'Астана'\n",
    "    e['city_en'] = 'Astana'\n",
    "\n",
    "airvisual = []\n",
    "airvisual.append(pollist[0])\n",
    "airvisual.append(pollist2[0])\n",
    "\n",
    "for e in airvisual:\n",
    "    e['pointId'] = e['ts']+e['city_en']+'|Airvisual'\n",
    "    e['stationId'] = e['ts']+e['city_en']\n",
    "    e['source'] = 'AirVisual.com'\n",
    "    e['lat'] = 43.258597\n",
    "    e['lng'] = 76.932439\n",
    "    e['adr'] = 'TBA'\n",
    "    e['p2'] = e['p2'].get('conc')\n",
    "    e['ts_scrap'] = ts"
   ]
  },
  {
   "cell_type": "markdown",
   "metadata": {},
   "source": [
    "#### US Embassy Parse"
   ]
  },
  {
   "cell_type": "code",
   "execution_count": 6,
   "metadata": {},
   "outputs": [],
   "source": [
    "us_key = 'ce61d4dc68ce4de97bfe3616304d5044bc60dc2e'\n",
    "url_almaty = 'https://api.waqi.info/feed/almaty/?token='\n",
    "url_astana = 'https://api.waqi.info/feed/astana/?token='\n",
    "\n",
    "data_almaty = requests.get(url_almaty+us_key).json()\n",
    "data_almatycl = dict()\n",
    "data_almatycl['time'] = data_almaty['data']['time']['s']\n",
    "data_almatycl['aqi'] = data_almaty['data']['aqi']\n",
    "data_almatycl['pm25'] = data_almaty['data']['iaqi']['pm25']['v']\n",
    "data_almatycl['ts'] = ts\n",
    "data_almatycl['pointId'] = ts+'_'+'Almaty'\n",
    "data_almatycl['city'] = 'Алматы'\n",
    "data_almatycl['city_en'] = 'Almaty'\n",
    "\n",
    "data_astana = requests.get(url_astana+us_key).json()\n",
    "data_astanacl = dict()\n",
    "data_astanacl['time'] = data_astana['data']['time']['s']\n",
    "data_astanacl['aqi'] = data_astana['data']['aqi']\n",
    "data_astanacl['pm25'] = data_astana['data']['iaqi']['pm25']['v']\n",
    "data_astanacl['ts'] = ts\n",
    "data_astanacl['pointId'] = ts+'_'+'Astana'\n",
    "data_astanacl['city'] = \"Астана\"\n",
    "data_astanacl['city_en'] = \"Astana\"\n",
    "\n",
    "us = []\n",
    "us.append(data_almatycl)\n",
    "us.append(data_astanacl)\n",
    "\n",
    "for e in us:\n",
    "    e['pointId'] = e['ts']+e['city_en']+'|US'\n",
    "    e['stationId'] = e['ts']+e['city_en']\n",
    "    e['source'] = 'US Embassy'\n",
    "    e['lat'] = 43.258597\n",
    "    e['lng'] = 76.932439\n",
    "    e['adr'] = 'TBA'"
   ]
  },
  {
   "cell_type": "markdown",
   "metadata": {},
   "source": [
    "### AirData DataFrame"
   ]
  },
  {
   "cell_type": "code",
   "execution_count": 7,
   "metadata": {},
   "outputs": [],
   "source": [
    "cols = ['pointId', 'Дата и время', 'Источник', 'Дата и время датчика', 'Город', 'ID датчика', 'Адрес датчика', 'Lat', 'Lng', 'PM 2.5']\n",
    "airdata = pd.DataFrame(columns = cols)"
   ]
  },
  {
   "cell_type": "markdown",
   "metadata": {},
   "source": [
    "#### AirKaz DF"
   ]
  },
  {
   "cell_type": "code",
   "execution_count": 8,
   "metadata": {},
   "outputs": [],
   "source": [
    "airkazjsondf = pd.DataFrame(airkaz)\n",
    "airkazdf = airkazjsondf[['pointId', 'ts', 'source', 'date', 'city', 'id', 'name', 'lat', 'lng', 'pm25']]\n",
    "airkazdf.columns = cols\n",
    "airdata = airdata.append(airkazdf)"
   ]
  },
  {
   "cell_type": "markdown",
   "metadata": {},
   "source": [
    "#### KGMT DF"
   ]
  },
  {
   "cell_type": "code",
   "execution_count": 9,
   "metadata": {},
   "outputs": [],
   "source": [
    "kgmtjsondf = pd.DataFrame(kgmt)\n",
    "kgmtjsondf['value'] = kgmtjsondf['value']*1000\n",
    "kgmtdf = kgmtjsondf[['pointId', 'ts', 'source', 'date', 'city', 'stationId', 'adr', 'lat', 'lng', 'value']]\n",
    "kgmtdf.columns = cols\n",
    "airdata = airdata.append(kgmtdf)"
   ]
  },
  {
   "cell_type": "markdown",
   "metadata": {},
   "source": [
    "#### AirVisual DF"
   ]
  },
  {
   "cell_type": "code",
   "execution_count": 10,
   "metadata": {},
   "outputs": [],
   "source": [
    "avjsondf = pd.DataFrame(airvisual)\n",
    "avdf = avjsondf[['pointId', 'ts_scrap', 'source', 'ts', 'city', 'stationId', 'adr', 'lat', 'lng', 'p2']]\n",
    "avdf.columns = cols\n",
    "airdata = airdata.append(avdf)"
   ]
  },
  {
   "cell_type": "markdown",
   "metadata": {},
   "source": [
    "#### US Embassy DF"
   ]
  },
  {
   "cell_type": "code",
   "execution_count": 11,
   "metadata": {},
   "outputs": [],
   "source": [
    "usjsondf = pd.DataFrame(us)\n",
    "usdf = usjsondf[['pointId', 'ts', 'source', 'time', 'city', 'stationId', 'adr', 'lat', 'lng', 'pm25']]\n",
    "usdf.columns = cols\n",
    "airdata = airdata.append(usdf)"
   ]
  },
  {
   "cell_type": "code",
   "execution_count": 12,
   "metadata": {},
   "outputs": [],
   "source": [
    "airdata['PM 2.5'] = airdata['PM 2.5'].astype(float)\n",
    "airdata['Lat'] = airdata['Lat'].astype(float)\n",
    "airdata['Lng'] = airdata['Lng'].astype(float)"
   ]
  },
  {
   "cell_type": "code",
   "execution_count": 14,
   "metadata": {},
   "outputs": [
    {
     "name": "stdout",
     "output_type": "stream",
     "text": [
      "5.901362895965576\n"
     ]
    }
   ],
   "source": [
    "end = time.time()\n",
    "print(end-start)"
   ]
  },
  {
   "cell_type": "code",
   "execution_count": null,
   "metadata": {},
   "outputs": [],
   "source": []
  }
 ],
 "metadata": {
  "kernelspec": {
   "display_name": "Python 3",
   "language": "python",
   "name": "python3"
  },
  "language_info": {
   "codemirror_mode": {
    "name": "ipython",
    "version": 3
   },
   "file_extension": ".py",
   "mimetype": "text/x-python",
   "name": "python",
   "nbconvert_exporter": "python",
   "pygments_lexer": "ipython3",
   "version": "3.6.5"
  }
 },
 "nbformat": 4,
 "nbformat_minor": 4
}
