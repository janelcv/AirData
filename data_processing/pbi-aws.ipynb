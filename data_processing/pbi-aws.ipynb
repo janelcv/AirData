{
 "cells": [
  {
   "cell_type": "code",
   "execution_count": 1,
   "metadata": {},
   "outputs": [],
   "source": [
    "# !pip install pandas -t C:/Users/kazyb/Documents/AirData/Main/aws/pd"
   ]
  },
  {
   "cell_type": "markdown",
   "metadata": {},
   "source": [
    "#### Import Libraries"
   ]
  },
  {
   "cell_type": "code",
   "execution_count": 2,
   "metadata": {},
   "outputs": [],
   "source": [
    "import json\n",
    "import requests\n",
    "from datetime import datetime, timezone, timedelta\n",
    "from decimal import Decimal\n",
    "import pandas as pd"
   ]
  },
  {
   "cell_type": "code",
   "execution_count": 3,
   "metadata": {},
   "outputs": [],
   "source": [
    "# # For AWS\n",
    "# import boto3\n",
    "# dynamodb = boto3.resource('dynamodb')\n",
    "# table = dynamodb.Table('livedata')"
   ]
  },
  {
   "cell_type": "markdown",
   "metadata": {},
   "source": [
    "#### Date and Time"
   ]
  },
  {
   "cell_type": "code",
   "execution_count": 4,
   "metadata": {},
   "outputs": [],
   "source": [
    "now = datetime.now(timezone.utc) + timedelta(hours = 6)\n",
    "ts = now.isoformat()"
   ]
  },
  {
   "cell_type": "markdown",
   "metadata": {},
   "source": [
    "### JSON Part"
   ]
  },
  {
   "cell_type": "markdown",
   "metadata": {},
   "source": [
    "#### AirKaz Parse"
   ]
  },
  {
   "cell_type": "code",
   "execution_count": 5,
   "metadata": {},
   "outputs": [],
   "source": [
    "url_airkaz = 'https://airkaz.org'\n",
    "rq = requests.get(url_airkaz)\n",
    "\n",
    "psource = rq.text\n",
    "\n",
    "psource = rq.text\n",
    "sindex = psource.find('sensors_data')\n",
    "psource = psource[sindex:]\n",
    "findex = psource.find('<div class=\"container-fluid\">')\n",
    "psource = psource[:findex]\n",
    "lstart = psource.find('[')+1\n",
    "lfin = psource.find(']')\n",
    "psource = psource[lstart:lfin].split(\"},\")\n",
    "\n",
    "alldata = []\n",
    "json_code = json.loads(psource[0]+\"}\")\n",
    "\n",
    "for e in list(range(len(psource))):\n",
    "    try:\n",
    "        json_code = json.loads(psource[e]+\"}\")\n",
    "        alldata.append(json_code)\n",
    "    except:\n",
    "        pass\n",
    "\n",
    "data = []\n",
    "\n",
    "for e in alldata:\n",
    "    if e['hour'] == 'now':\n",
    "        data.append(e)\n",
    "\n",
    "for air in data:\n",
    "    air['ts'] = ts\n",
    "\n",
    "datalen = list(range(len(data)))\n",
    "\n",
    "for e in datalen:\n",
    "    uid = data[e]['lat']+data[e]['lng']+data[e]['ts']+'|AirKaz'\n",
    "    data[e]['pointId'] = uid\n",
    "    data[e]['source'] = 'AirKaz.org'\n",
    "\n",
    "cities = ['Алматы', 'Астана', 'Нур-Султан']\n",
    "airkaz = []\n",
    "\n",
    "for d in data:\n",
    "    if d['city'] in cities and d['status'] == 'active' and d['pm25'] != None:\n",
    "        airkaz.append(d)"
   ]
  },
  {
   "cell_type": "markdown",
   "metadata": {},
   "source": [
    "#### KazGidroMet Parse"
   ]
  },
  {
   "cell_type": "code",
   "execution_count": 6,
   "metadata": {},
   "outputs": [],
   "source": [
    "api_kgmt = 'e7c28f4e2e167304cee3418502d0e18c3a7772a61edc0b12afa71d2e4f2e3581'\n",
    "url_kgmt = 'http://93.185.75.19:4003/simple/averages/last?key='\n",
    "\n",
    "alldata = requests.get(url_kgmt+api_kgmt).json()\n",
    "\n",
    "almaty = [27, 59, 97, 26, 28]\n",
    "astana = [14, 12, 4, 8, 7]\n",
    "kz = almaty+astana\n",
    "\n",
    "kgmt = []\n",
    "\n",
    "for d in alldata:\n",
    "    if d['stationId'] in kz and d['code'] == 'PM2.5':\n",
    "        kgmt.append(d)\n",
    "\n",
    "for air in kgmt:\n",
    "    air['ts'] = ts\n",
    "    air['pointId'] = str(air['stationId'])+air['id']+air['ts']+'|KGMT'\n",
    "    air['adr'] = 'TBA'\n",
    "    air['source'] = 'КазГидроМет'\n",
    "    if air['stationId'] in almaty:\n",
    "        air['city'] = 'Алматы'\n",
    "    elif air['stationId'] in astana:\n",
    "        air['city'] = 'Астана'"
   ]
  },
  {
   "cell_type": "code",
   "execution_count": 7,
   "metadata": {},
   "outputs": [],
   "source": [
    "# coordinates Алматы\n",
    "kgmt_coord_al = [[27, 43.180062, 76.889797],\n",
    "[59, 43.300790, 76.92561],\n",
    "[97, 43.368683, 77.010878],\n",
    "[26, 43.337128, 76.952744],\n",
    "[28, 43.298860, 76.851442]]\n",
    "\n",
    "# coordinates Астана\n",
    "kgmt_coord_ast = [[14, 51.1572571,71.4128373],\n",
    "[12, 51.1811223,71.4635968],\n",
    "[4, 51.1149257,71.4263808],\n",
    "[8, 51.185649, 71.344902],\n",
    "[7, 51.123316, 71.484280]]\n",
    "\n",
    "coordl = kgmt_coord_al+kgmt_coord_ast"
   ]
  },
  {
   "cell_type": "code",
   "execution_count": 8,
   "metadata": {},
   "outputs": [],
   "source": [
    "for e in kgmt:\n",
    "    if e['stationId'] == coordl[0][0]:\n",
    "        e['lat'] = coordl[0][1]\n",
    "        e['lng'] = coordl[0][2]\n",
    "    elif e['stationId'] == coordl[1][0]:\n",
    "        e['lat'] = coordl[1][1]\n",
    "        e['lng'] = coordl[1][2]\n",
    "    elif e['stationId'] == coordl[2][0]:\n",
    "        e['lat'] = coordl[2][1]\n",
    "        e['lng'] = coordl[2][2]\n",
    "    elif e['stationId'] == coordl[3][0]:\n",
    "        e['lat'] = coordl[3][1]\n",
    "        e['lng'] = coordl[3][2]\n",
    "    elif e['stationId'] == coordl[4][0]:\n",
    "        e['lat'] = coordl[4][1]\n",
    "        e['lng'] = coordl[4][2]\n",
    "    elif e['stationId'] == coordl[5][0]:\n",
    "        e['lat'] = coordl[5][1]\n",
    "        e['lng'] = coordl[5][2]\n",
    "    elif e['stationId'] == coordl[6][0]:\n",
    "        e['lat'] = coordl[6][1]\n",
    "        e['lng'] = coordl[6][2]\n",
    "    elif e['stationId'] == coordl[7][0]:\n",
    "        e['lat'] = coordl[7][1]\n",
    "        e['lng'] = coordl[7][2]\n",
    "    elif e['stationId'] == coordl[8][0]:\n",
    "        e['lat'] = coordl[8][1]\n",
    "        e['lng'] = coordl[8][2]\n",
    "    elif e['stationId'] == coordl[9][0]:\n",
    "        e['lat'] = coordl[9][1]\n",
    "        e['lng'] = coordl[9][2]"
   ]
  },
  {
   "cell_type": "markdown",
   "metadata": {},
   "source": [
    "#### AirVisual Parse"
   ]
  },
  {
   "cell_type": "code",
   "execution_count": 9,
   "metadata": {},
   "outputs": [],
   "source": [
    "api_av = '07204a95-9cab-4030-9c92-585b48409ce2'\n",
    "url_av = 'http://api.airvisual.com/v2/city?city=almaty&state=almaty-qalasy&country=kazakhstan&key='\n",
    "data = requests.get(url_av+api_av).json()\n",
    "pollist = data.get('data').get('history').get('pollution')\n",
    "\n",
    "for e in pollist:\n",
    "    e['city'] = 'Алматы'\n",
    "    e['city_en'] = 'Almaty'\n",
    "    e['stationId'] = '2'\n",
    "    e['lat'] = 43.231535\n",
    "    e['lng'] = 76.888067\n",
    "\n",
    "url2_av = 'http://api.airvisual.com/v2/city?city=nur-sultan&state=nur-sultan&country=kazakhstan&key='\n",
    "data2 = requests.get(url2_av+api_av).json()\n",
    "pollist2 = data2.get('data').get('history').get('pollution')\n",
    "\n",
    "for e in pollist2:\n",
    "    e['city'] = 'Астана'\n",
    "    e['city_en'] = 'Astana'\n",
    "    e['stationId'] = '1'\n",
    "    e['lat'] = 51.124852659802606\n",
    "    e['lng'] = 71.6682643657323\n",
    "\n",
    "airvisual = []\n",
    "airvisual.append(pollist[0])\n",
    "airvisual.append(pollist2[0])\n",
    "\n",
    "for e in airvisual:\n",
    "    e['pointId'] = e['ts']+e['city_en']+'|Airvisual'\n",
    "    e['source'] = 'AirVisual.com'\n",
    "    e['adr'] = 'TBA'\n",
    "    e['p2'] = e['p2'].get('conc')\n",
    "    e['ts_scrap'] = ts"
   ]
  },
  {
   "cell_type": "code",
   "execution_count": 10,
   "metadata": {},
   "outputs": [],
   "source": [
    "# # Almaty\n",
    "# 43.231535, 76.888067\n",
    "\n",
    "# # Astana\n",
    "# 51.124852659802606,  71.6682643657323"
   ]
  },
  {
   "cell_type": "markdown",
   "metadata": {},
   "source": [
    "#### US Embassy Parse"
   ]
  },
  {
   "cell_type": "code",
   "execution_count": 11,
   "metadata": {},
   "outputs": [],
   "source": [
    "us_key = 'ce61d4dc68ce4de97bfe3616304d5044bc60dc2e'\n",
    "url_almaty = 'https://api.waqi.info/feed/almaty/?token='\n",
    "url_astana = 'https://api.waqi.info/feed/astana/?token='\n",
    "\n",
    "data_almaty = requests.get(url_almaty+us_key).json()\n",
    "data_almatycl = dict()\n",
    "data_almatycl['time'] = data_almaty['data']['time']['s']\n",
    "data_almatycl['aqi'] = data_almaty['data']['aqi']\n",
    "data_almatycl['pm25'] = data_almaty['data']['iaqi']['pm25']['v']\n",
    "data_almatycl['ts'] = ts\n",
    "data_almatycl['stationId'] = \"2\"\n",
    "data_almatycl['city'] = 'Алматы'\n",
    "data_almatycl['city_en'] = 'Almaty'\n",
    "data_almatycl['lat'] = 43.221890\n",
    "data_almatycl['lng'] = 76.850993\n",
    "\n",
    "data_astana = requests.get(url_astana+us_key).json()\n",
    "data_astanacl = dict()\n",
    "data_astanacl['time'] = data_astana['data']['time']['s']\n",
    "data_astanacl['aqi'] = data_astana['data']['aqi']\n",
    "data_astanacl['pm25'] = data_astana['data']['iaqi']['pm25']['v']\n",
    "data_astanacl['ts'] = ts\n",
    "data_astanacl['stationId'] = \"1\"\n",
    "data_astanacl['city'] = \"Астана\"\n",
    "data_astanacl['city_en'] = \"Astana\"\n",
    "data_astanacl['lat'] = 51.125307\n",
    "data_astanacl['lng'] = 71.467247\n",
    "\n",
    "us = []\n",
    "us.append(data_almatycl)\n",
    "us.append(data_astanacl)\n",
    "\n",
    "for e in us:\n",
    "    e['pointId'] = e['ts']+e['city_en']+'|US'\n",
    "    e['source'] = 'US Embassy'\n",
    "    e['adr'] = 'TBA'"
   ]
  },
  {
   "cell_type": "code",
   "execution_count": 12,
   "metadata": {},
   "outputs": [],
   "source": [
    "# # Almaty US\n",
    "# 43.221890, 76.850993\n",
    "\n",
    "# # Astana US\n",
    "# 51.125307, 71.467247"
   ]
  },
  {
   "cell_type": "markdown",
   "metadata": {},
   "source": [
    "### AirData DataFrame"
   ]
  },
  {
   "cell_type": "code",
   "execution_count": 13,
   "metadata": {},
   "outputs": [],
   "source": [
    "cols = ['pointId', 'Дата и время', 'Источник', 'Последнее обновление датчика', 'Город', 'ID датчика', 'Адрес датчика', 'Lat', 'Lng', 'PM 2.5']\n",
    "airdata = pd.DataFrame(columns = cols)"
   ]
  },
  {
   "cell_type": "markdown",
   "metadata": {},
   "source": [
    "#### AirKaz DF"
   ]
  },
  {
   "cell_type": "code",
   "execution_count": 14,
   "metadata": {},
   "outputs": [],
   "source": [
    "airkazjsondf = pd.DataFrame(airkaz)\n",
    "airkazdf = airkazjsondf[['pointId', 'ts', 'source', 'date', 'city', 'id', 'name', 'lat', 'lng', 'pm25']]\n",
    "airkazdf.columns = cols\n",
    "airdata = airdata.append(airkazdf)"
   ]
  },
  {
   "cell_type": "markdown",
   "metadata": {},
   "source": [
    "#### KGMT DF"
   ]
  },
  {
   "cell_type": "code",
   "execution_count": 15,
   "metadata": {},
   "outputs": [
    {
     "name": "stderr",
     "output_type": "stream",
     "text": [
      "C:\\Users\\kazyb\\Anaconda3\\lib\\site-packages\\ipykernel_launcher.py:5: SettingWithCopyWarning: \n",
      "A value is trying to be set on a copy of a slice from a DataFrame.\n",
      "Try using .loc[row_indexer,col_indexer] = value instead\n",
      "\n",
      "See the caveats in the documentation: https://pandas.pydata.org/pandas-docs/stable/user_guide/indexing.html#returning-a-view-versus-a-copy\n",
      "  \"\"\"\n",
      "C:\\Users\\kazyb\\Anaconda3\\lib\\site-packages\\ipykernel_launcher.py:6: SettingWithCopyWarning: \n",
      "A value is trying to be set on a copy of a slice from a DataFrame.\n",
      "Try using .loc[row_indexer,col_indexer] = value instead\n",
      "\n",
      "See the caveats in the documentation: https://pandas.pydata.org/pandas-docs/stable/user_guide/indexing.html#returning-a-view-versus-a-copy\n",
      "  \n"
     ]
    }
   ],
   "source": [
    "kgmtjsondf = pd.DataFrame(kgmt)\n",
    "kgmtjsondf['value'] = kgmtjsondf['value']*1000\n",
    "kgmtdf = kgmtjsondf[['pointId', 'ts', 'source', 'date', 'city', 'stationId', 'adr', 'lat', 'lng', 'value']]\n",
    "kgmtdf.columns = cols\n",
    "kgmtdf['Последнее обновление датчика'] = kgmtdf['Последнее обновление датчика'].str.replace('.000Z', '')\n",
    "kgmtdf['Последнее обновление датчика'] = kgmtdf['Последнее обновление датчика'].str.replace('T', ' ')\n",
    "airdata = airdata.append(kgmtdf)"
   ]
  },
  {
   "cell_type": "markdown",
   "metadata": {},
   "source": [
    "#### AirVisual DF"
   ]
  },
  {
   "cell_type": "code",
   "execution_count": 16,
   "metadata": {},
   "outputs": [
    {
     "name": "stderr",
     "output_type": "stream",
     "text": [
      "C:\\Users\\kazyb\\Anaconda3\\lib\\site-packages\\ipykernel_launcher.py:4: SettingWithCopyWarning: \n",
      "A value is trying to be set on a copy of a slice from a DataFrame.\n",
      "Try using .loc[row_indexer,col_indexer] = value instead\n",
      "\n",
      "See the caveats in the documentation: https://pandas.pydata.org/pandas-docs/stable/user_guide/indexing.html#returning-a-view-versus-a-copy\n",
      "  after removing the cwd from sys.path.\n",
      "C:\\Users\\kazyb\\Anaconda3\\lib\\site-packages\\ipykernel_launcher.py:5: SettingWithCopyWarning: \n",
      "A value is trying to be set on a copy of a slice from a DataFrame.\n",
      "Try using .loc[row_indexer,col_indexer] = value instead\n",
      "\n",
      "See the caveats in the documentation: https://pandas.pydata.org/pandas-docs/stable/user_guide/indexing.html#returning-a-view-versus-a-copy\n",
      "  \"\"\"\n"
     ]
    }
   ],
   "source": [
    "avjsondf = pd.DataFrame(airvisual)\n",
    "avdf = avjsondf[['pointId', 'ts_scrap', 'source', 'ts', 'city', 'stationId', 'adr', 'lat', 'lng', 'p2']]\n",
    "avdf.columns = cols\n",
    "avdf['Последнее обновление датчика'] = avdf['Последнее обновление датчика'].str.replace('.000Z', '')\n",
    "avdf['Последнее обновление датчика'] = avdf['Последнее обновление датчика'].str.replace('T', ' ')\n",
    "airdata = airdata.append(avdf)"
   ]
  },
  {
   "cell_type": "markdown",
   "metadata": {},
   "source": [
    "#### US Embassy DF"
   ]
  },
  {
   "cell_type": "code",
   "execution_count": 17,
   "metadata": {},
   "outputs": [],
   "source": [
    "usjsondf = pd.DataFrame(us)\n",
    "usdf = usjsondf[['pointId', 'ts', 'source', 'time', 'city', 'stationId', 'adr', 'lat', 'lng', 'pm25']]\n",
    "usdf.columns = cols\n",
    "airdata = airdata.append(usdf)"
   ]
  },
  {
   "cell_type": "code",
   "execution_count": 18,
   "metadata": {},
   "outputs": [],
   "source": [
    "airdata['PM 2.5'] = airdata['PM 2.5'].astype(float)\n",
    "airdata['Lat'] = airdata['Lat'].astype(float)\n",
    "airdata['Lng'] = airdata['Lng'].astype(float)\n",
    "airdata['Город'] = airdata['Город'].replace('Астана', 'Нур-Султан')"
   ]
  },
  {
   "cell_type": "markdown",
   "metadata": {},
   "source": [
    "### Upload to DynamoDB"
   ]
  },
  {
   "cell_type": "code",
   "execution_count": 19,
   "metadata": {},
   "outputs": [],
   "source": [
    "db_json = airdata.to_json(orient='records')\n",
    "db_json = json.loads(json.dumps(db_json), parse_float=Decimal)"
   ]
  },
  {
   "cell_type": "code",
   "execution_count": 20,
   "metadata": {},
   "outputs": [],
   "source": [
    "# def lambda_handler(event, context):\n",
    "#     table.put_item(Item=db_json)\n",
    "#     return {'statusCode' : 200, 'body' : \"Item Added\" }"
   ]
  },
  {
   "cell_type": "markdown",
   "metadata": {},
   "source": [
    "### Create Stream"
   ]
  },
  {
   "cell_type": "code",
   "execution_count": 21,
   "metadata": {},
   "outputs": [],
   "source": [
    "# api_pbi = ''\n",
    "# bi_json = bytes(airdata.to_json(orient='records'), encoding='utf-8')\n",
    "# req = requests.post(api_pbi, bi_json)"
   ]
  },
  {
   "cell_type": "code",
   "execution_count": null,
   "metadata": {},
   "outputs": [],
   "source": []
  }
 ],
 "metadata": {
  "kernelspec": {
   "display_name": "Python 3",
   "language": "python",
   "name": "python3"
  },
  "language_info": {
   "codemirror_mode": {
    "name": "ipython",
    "version": 3
   },
   "file_extension": ".py",
   "mimetype": "text/x-python",
   "name": "python",
   "nbconvert_exporter": "python",
   "pygments_lexer": "ipython3",
   "version": "3.7.6"
  }
 },
 "nbformat": 4,
 "nbformat_minor": 4
}
